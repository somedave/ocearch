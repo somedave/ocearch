{
  "cells": [
    {
      "cell_type": "markdown",
      "source": "### Challenge questions\n\nEasy questions:\n\n 1. How many total pings are in the Ocearch shark data?\n 2. How many unique species of sharks are in the data set?\n 3. What is the name, weight, and species of the heaviest shark(s)?\n 4. When and where was the very first ping?\n 5. Excluding results with 0 distance traveled: what's the minimum, average, and maximum travel distances?\n  ",
      "metadata": {
        "cell_id": "11fc4cf3-fe64-4f26-9379-6d570df4fc5c",
        "deepnote_cell_type": "markdown",
        "deepnote_cell_height": 250
      },
      "id": "6e262ea2"
    },
    {
      "cell_type": "markdown",
      "source": "### Load data",
      "metadata": {
        "cell_id": "00001-ea361d38-b123-44ad-a0fc-0304e9af892d",
        "deepnote_cell_type": "markdown",
        "deepnote_cell_height": 62
      },
      "id": "0bff3195"
    },
    {
      "cell_type": "code",
      "source": "# I have made changes\n\nimport pandas as pd\ndf = pd.read_csv('data/sharks_cleaned.csv')\ndf.shape",
      "metadata": {
        "ExecuteTime": {
          "end_time": "2023-10-04T17:42:26.129128+00:00",
          "start_time": "2023-10-04T17:42:25.882194+00:00"
        },
        "cell_id": "00002-82dd9c2b-4b23-4615-9c97-a0608eaf9080",
        "deepnote_to_be_reexecuted": false,
        "source_hash": "26e9c75d",
        "execution_start": 1663879963898,
        "execution_millis": 995,
        "deepnote_cell_type": "code",
        "deepnote_cell_height": 133,
        "noteable": {
          "output_collection_id": "67ca6793-725e-40f6-a40b-d60c4d9fb999"
        }
      },
      "execution_count": 1,
      "outputs": [],
      "id": "b8455d57"
    },
    {
      "cell_type": "markdown",
      "source": "### Explore data",
      "metadata": {
        "cell_id": "00003-ae17743b-10e9-4be0-8c30-6e4e79b0a448",
        "deepnote_cell_type": "markdown",
        "deepnote_cell_height": 62
      },
      "id": "34fe04f9"
    },
    {
      "cell_type": "code",
      "metadata": {
        "ExecuteTime": {
          "end_time": "2023-10-04T17:42:26.319469+00:00",
          "start_time": "2023-10-04T17:42:26.134159+00:00"
        },
        "cell_id": "00004-22518ac7-9822-412a-ab6f-1d6f5fb070b8",
        "deepnote_cell_type": "code",
        "deepnote_cell_height": 61,
        "noteable": {
          "output_collection_id": "3e1016f0-176b-41a9-a317-dfc41aebce0e"
        }
      },
      "source": "df.info()",
      "execution_count": null,
      "outputs": [],
      "id": "ad7f2b46"
    },
    {
      "cell_type": "code",
      "metadata": {
        "ExecuteTime": {
          "end_time": "2023-10-04T17:42:26.711299+00:00",
          "start_time": "2023-10-04T17:42:26.324769+00:00"
        },
        "cell_id": "00005-721b63b4-5f38-4cb7-b565-131446b59929",
        "deepnote_cell_type": "code",
        "deepnote_cell_height": 61,
        "noteable": {
          "output_collection_id": "f1e3d117-97ab-49d1-9b4d-ef415fab395d"
        },
        "datalink": {
          "0cb4ad21-e605-4cf5-a692-5d7fa7138f7e": {
            "applied_filters": [],
            "dataframe_info": {
              "default_index_used": false,
              "orig_num_cols": 7,
              "orig_num_rows": 8,
              "orig_size_bytes": 512,
              "truncated_num_cols": 7,
              "truncated_num_rows": 8,
              "truncated_size_bytes": 512,
              "truncated_string_columns": []
            },
            "display_id": "0cb4ad21-e605-4cf5-a692-5d7fa7138f7e",
            "dx_settings": {
              "ALLOW_NOTEABLE_ATTRS": true,
              "COLUMN_SAMPLING_METHOD": "outer",
              "DB_LOCATION": ":memory:",
              "DEV_MODE": false,
              "DISPLAY_MAX_COLUMNS": 100,
              "DISPLAY_MAX_ROWS": 50000,
              "DISPLAY_MODE": "simple",
              "ENABLE_ASSIGNMENT": true,
              "ENABLE_DATALINK": true,
              "FLATTEN_COLUMN_VALUES": true,
              "FLATTEN_INDEX_VALUES": false,
              "GENERATE_DEX_METADATA": false,
              "HTML_TABLE_SCHEMA": false,
              "LOG_LEVEL": 30,
              "MAX_RENDER_SIZE_BYTES": 104857600,
              "MAX_STRING_LENGTH": 250,
              "NUM_PAST_SAMPLES_TRACKED": 3,
              "RANDOM_STATE": 12648430,
              "RESET_INDEX_VALUES": false,
              "ROW_SAMPLING_METHOD": "random",
              "SAMPLING_FACTOR": 0.1,
              "SAMPLING_METHOD": "random",
              "STRINGIFY_COLUMN_VALUES": true,
              "STRINGIFY_INDEX_VALUES": false
            },
            "sample_history": [],
            "sampling_time": "2023-10-04T14:14:26.868687",
            "user_variable_name": null,
            "variable_name": "unk_dataframe_151be7d184ea441e81635d1afdee688c"
          },
          "65725931-d9c9-4c3c-82b2-e1c0c2098e86": {
            "applied_filters": [],
            "dataframe_info": {
              "default_index_used": false,
              "orig_num_cols": 7,
              "orig_num_rows": 8,
              "orig_size_bytes": 512,
              "truncated_num_cols": 7,
              "truncated_num_rows": 8,
              "truncated_size_bytes": 512,
              "truncated_string_columns": []
            },
            "display_id": "65725931-d9c9-4c3c-82b2-e1c0c2098e86",
            "dx_settings": {
              "ALLOW_NOTEABLE_ATTRS": true,
              "COLUMN_SAMPLING_METHOD": "outer",
              "DB_LOCATION": ":memory:",
              "DEV_MODE": false,
              "DISPLAY_MAX_COLUMNS": 100,
              "DISPLAY_MAX_ROWS": 50000,
              "DISPLAY_MODE": "simple",
              "ENABLE_ASSIGNMENT": true,
              "ENABLE_DATALINK": true,
              "FLATTEN_COLUMN_VALUES": true,
              "FLATTEN_INDEX_VALUES": false,
              "GENERATE_DEX_METADATA": false,
              "HTML_TABLE_SCHEMA": false,
              "LOG_LEVEL": 30,
              "MAX_RENDER_SIZE_BYTES": 104857600,
              "MAX_STRING_LENGTH": 250,
              "NUM_PAST_SAMPLES_TRACKED": 3,
              "RANDOM_STATE": 12648430,
              "RESET_INDEX_VALUES": false,
              "ROW_SAMPLING_METHOD": "random",
              "SAMPLING_FACTOR": 0.1,
              "SAMPLING_METHOD": "random",
              "STRINGIFY_COLUMN_VALUES": true,
              "STRINGIFY_INDEX_VALUES": false
            },
            "sample_history": [],
            "sampling_time": "2023-10-04T15:48:19.143433",
            "user_variable_name": null,
            "variable_name": "unk_dataframe_5bb9c0989bea4a6aa4ece4ef6c8cf0b9"
          },
          "2fcfa8c1-8cb7-46b8-8714-ec66953173fd": {
            "applied_filters": [],
            "dataframe_info": {
              "default_index_used": false,
              "orig_num_cols": 7,
              "orig_num_rows": 8,
              "orig_size_bytes": 512,
              "truncated_num_cols": 7,
              "truncated_num_rows": 8,
              "truncated_size_bytes": 512,
              "truncated_string_columns": []
            },
            "display_id": "2fcfa8c1-8cb7-46b8-8714-ec66953173fd",
            "dx_settings": {
              "ALLOW_NOTEABLE_ATTRS": true,
              "COLUMN_SAMPLING_METHOD": "outer",
              "DB_LOCATION": ":memory:",
              "DEV_MODE": false,
              "DISPLAY_MAX_COLUMNS": 100,
              "DISPLAY_MAX_ROWS": 50000,
              "DISPLAY_MODE": "simple",
              "ENABLE_ASSIGNMENT": true,
              "ENABLE_DATALINK": true,
              "FLATTEN_COLUMN_VALUES": true,
              "FLATTEN_INDEX_VALUES": false,
              "GENERATE_DEX_METADATA": false,
              "HTML_TABLE_SCHEMA": false,
              "LOG_LEVEL": 30,
              "MAX_RENDER_SIZE_BYTES": 104857600,
              "MAX_STRING_LENGTH": 250,
              "NUM_PAST_SAMPLES_TRACKED": 3,
              "RANDOM_STATE": 12648430,
              "RESET_INDEX_VALUES": false,
              "ROW_SAMPLING_METHOD": "random",
              "SAMPLING_FACTOR": 0.1,
              "SAMPLING_METHOD": "random",
              "STRINGIFY_COLUMN_VALUES": true,
              "STRINGIFY_INDEX_VALUES": false
            },
            "sample_history": [],
            "sampling_time": "2023-10-04T15:48:20.501367",
            "user_variable_name": null,
            "variable_name": "unk_dataframe_11cfb4ea65d54627b8eaed3931ba3dc5"
          },
          "1cab221b-62cc-4f86-a9c0-ee53ff05c60b": {
            "applied_filters": [],
            "dataframe_info": {
              "default_index_used": false,
              "orig_num_cols": 7,
              "orig_num_rows": 8,
              "orig_size_bytes": 512,
              "truncated_num_cols": 7,
              "truncated_num_rows": 8,
              "truncated_size_bytes": 512,
              "truncated_string_columns": []
            },
            "display_id": "1cab221b-62cc-4f86-a9c0-ee53ff05c60b",
            "dx_settings": {
              "ALLOW_NOTEABLE_ATTRS": true,
              "COLUMN_SAMPLING_METHOD": "outer",
              "DB_LOCATION": ":memory:",
              "DEV_MODE": false,
              "DISPLAY_MAX_COLUMNS": 100,
              "DISPLAY_MAX_ROWS": 50000,
              "DISPLAY_MODE": "simple",
              "ENABLE_ASSIGNMENT": true,
              "ENABLE_DATALINK": true,
              "FLATTEN_COLUMN_VALUES": true,
              "FLATTEN_INDEX_VALUES": false,
              "GENERATE_DEX_METADATA": false,
              "HTML_TABLE_SCHEMA": false,
              "LOG_LEVEL": 30,
              "MAX_RENDER_SIZE_BYTES": 104857600,
              "MAX_STRING_LENGTH": 250,
              "NUM_PAST_SAMPLES_TRACKED": 3,
              "RANDOM_STATE": 12648430,
              "RESET_INDEX_VALUES": false,
              "ROW_SAMPLING_METHOD": "random",
              "SAMPLING_FACTOR": 0.1,
              "SAMPLING_METHOD": "random",
              "STRINGIFY_COLUMN_VALUES": true,
              "STRINGIFY_INDEX_VALUES": false
            },
            "sample_history": [],
            "sampling_time": "2023-10-04T15:54:41.384553",
            "user_variable_name": null,
            "variable_name": "unk_dataframe_206cf6c86692462d9b85730280481114"
          },
          "580b03e7-9a95-44e2-8342-6f83040d664a": {
            "applied_filters": [],
            "dataframe_info": {
              "default_index_used": false,
              "orig_num_cols": 7,
              "orig_num_rows": 8,
              "orig_size_bytes": 512,
              "truncated_num_cols": 7,
              "truncated_num_rows": 8,
              "truncated_size_bytes": 512,
              "truncated_string_columns": []
            },
            "display_id": "580b03e7-9a95-44e2-8342-6f83040d664a",
            "dx_settings": {
              "ALLOW_NOTEABLE_ATTRS": true,
              "COLUMN_SAMPLING_METHOD": "outer",
              "DB_LOCATION": ":memory:",
              "DEV_MODE": false,
              "DISPLAY_MAX_COLUMNS": 100,
              "DISPLAY_MAX_ROWS": 50000,
              "DISPLAY_MODE": "simple",
              "ENABLE_ASSIGNMENT": true,
              "ENABLE_DATALINK": true,
              "FLATTEN_COLUMN_VALUES": true,
              "FLATTEN_INDEX_VALUES": false,
              "GENERATE_DEX_METADATA": false,
              "HTML_TABLE_SCHEMA": false,
              "LOG_LEVEL": 30,
              "MAX_RENDER_SIZE_BYTES": 104857600,
              "MAX_STRING_LENGTH": 250,
              "NUM_PAST_SAMPLES_TRACKED": 3,
              "RANDOM_STATE": 12648430,
              "RESET_INDEX_VALUES": false,
              "ROW_SAMPLING_METHOD": "random",
              "SAMPLING_FACTOR": 0.1,
              "SAMPLING_METHOD": "random",
              "STRINGIFY_COLUMN_VALUES": true,
              "STRINGIFY_INDEX_VALUES": false
            },
            "sample_history": [],
            "sampling_time": "2023-10-04T16:28:12.987461",
            "user_variable_name": null,
            "variable_name": "unk_dataframe_6808f68d7f39453f84014c1bb375e67a"
          },
          "9aec4782-ab1e-497d-8c0c-efd8bb636155": {
            "applied_filters": [],
            "dataframe_info": {
              "default_index_used": false,
              "orig_num_cols": 7,
              "orig_num_rows": 8,
              "orig_size_bytes": 512,
              "truncated_num_cols": 7,
              "truncated_num_rows": 8,
              "truncated_size_bytes": 512,
              "truncated_string_columns": []
            },
            "display_id": "9aec4782-ab1e-497d-8c0c-efd8bb636155",
            "dx_settings": {
              "ALLOW_NOTEABLE_ATTRS": true,
              "COLUMN_SAMPLING_METHOD": "outer",
              "DB_LOCATION": ":memory:",
              "DEV_MODE": false,
              "DISPLAY_MAX_COLUMNS": 100,
              "DISPLAY_MAX_ROWS": 50000,
              "DISPLAY_MODE": "simple",
              "ENABLE_ASSIGNMENT": true,
              "ENABLE_DATALINK": true,
              "FLATTEN_COLUMN_VALUES": true,
              "FLATTEN_INDEX_VALUES": false,
              "GENERATE_DEX_METADATA": false,
              "HTML_TABLE_SCHEMA": false,
              "LOG_LEVEL": 30,
              "MAX_RENDER_SIZE_BYTES": 104857600,
              "MAX_STRING_LENGTH": 250,
              "NUM_PAST_SAMPLES_TRACKED": 3,
              "RANDOM_STATE": 12648430,
              "RESET_INDEX_VALUES": false,
              "ROW_SAMPLING_METHOD": "random",
              "SAMPLING_FACTOR": 0.1,
              "SAMPLING_METHOD": "random",
              "STRINGIFY_COLUMN_VALUES": true,
              "STRINGIFY_INDEX_VALUES": false
            },
            "sample_history": [],
            "sampling_time": "2023-10-04T17:42:26.546225",
            "user_variable_name": null,
            "variable_name": "unk_dataframe_ae5b47df6d8c4200a07d8fd842db9f5b"
          }
        }
      },
      "source": "df.describe()",
      "execution_count": null,
      "outputs": [],
      "id": "38bc2cf3"
    },
    {
      "cell_type": "code",
      "metadata": {
        "ExecuteTime": {
          "end_time": "2023-10-04T17:42:27.319290+00:00",
          "start_time": "2023-10-04T17:42:26.919588+00:00"
        },
        "cell_id": "00006-9934f210-ecf4-4c0c-8035-d1067b39157f",
        "deepnote_cell_type": "code",
        "deepnote_cell_height": 61,
        "noteable": {
          "output_collection_id": "6945ecc0-d0f3-4ebf-9e4a-b10025afdb94"
        },
        "datalink": {
          "4182fedd-5188-40cf-99a8-35e499d2b1c7": {
            "applied_filters": [],
            "dataframe_info": {
              "default_index_used": true,
              "orig_num_cols": 12,
              "orig_num_rows": 5,
              "orig_size_bytes": 520,
              "truncated_num_cols": 12,
              "truncated_num_rows": 5,
              "truncated_size_bytes": 520,
              "truncated_string_columns": []
            },
            "display_id": "4182fedd-5188-40cf-99a8-35e499d2b1c7",
            "dx_settings": {
              "ALLOW_NOTEABLE_ATTRS": true,
              "COLUMN_SAMPLING_METHOD": "outer",
              "DB_LOCATION": ":memory:",
              "DEV_MODE": false,
              "DISPLAY_MAX_COLUMNS": 100,
              "DISPLAY_MAX_ROWS": 50000,
              "DISPLAY_MODE": "simple",
              "ENABLE_ASSIGNMENT": true,
              "ENABLE_DATALINK": true,
              "FLATTEN_COLUMN_VALUES": true,
              "FLATTEN_INDEX_VALUES": false,
              "GENERATE_DEX_METADATA": false,
              "HTML_TABLE_SCHEMA": false,
              "LOG_LEVEL": 30,
              "MAX_RENDER_SIZE_BYTES": 104857600,
              "MAX_STRING_LENGTH": 250,
              "NUM_PAST_SAMPLES_TRACKED": 3,
              "RANDOM_STATE": 12648430,
              "RESET_INDEX_VALUES": false,
              "ROW_SAMPLING_METHOD": "random",
              "SAMPLING_FACTOR": 0.1,
              "SAMPLING_METHOD": "random",
              "STRINGIFY_COLUMN_VALUES": true,
              "STRINGIFY_INDEX_VALUES": false
            },
            "sample_history": [],
            "sampling_time": "2023-10-04T14:14:27.383350",
            "user_variable_name": null,
            "variable_name": "unk_dataframe_ed6903096242430aa640f2ede78b89d9"
          },
          "c6bd2c82-dc57-4fec-a2d8-97a32b9992ff": {
            "applied_filters": [],
            "dataframe_info": {
              "default_index_used": true,
              "orig_num_cols": 12,
              "orig_num_rows": 65793,
              "orig_size_bytes": 6842472,
              "truncated_num_cols": 12,
              "truncated_num_rows": 50000,
              "truncated_size_bytes": 5200000,
              "truncated_string_columns": []
            },
            "display_id": "c6bd2c82-dc57-4fec-a2d8-97a32b9992ff",
            "dx_settings": {
              "ALLOW_NOTEABLE_ATTRS": true,
              "COLUMN_SAMPLING_METHOD": "outer",
              "DB_LOCATION": ":memory:",
              "DEV_MODE": false,
              "DISPLAY_MAX_COLUMNS": 100,
              "DISPLAY_MAX_ROWS": 50000,
              "DISPLAY_MODE": "simple",
              "ENABLE_ASSIGNMENT": true,
              "ENABLE_DATALINK": true,
              "FLATTEN_COLUMN_VALUES": true,
              "FLATTEN_INDEX_VALUES": false,
              "GENERATE_DEX_METADATA": false,
              "HTML_TABLE_SCHEMA": false,
              "LOG_LEVEL": 30,
              "MAX_RENDER_SIZE_BYTES": 104857600,
              "MAX_STRING_LENGTH": 250,
              "NUM_PAST_SAMPLES_TRACKED": 3,
              "RANDOM_STATE": 12648430,
              "RESET_INDEX_VALUES": false,
              "ROW_SAMPLING_METHOD": "random",
              "SAMPLING_FACTOR": 0.1,
              "SAMPLING_METHOD": "random",
              "STRINGIFY_COLUMN_VALUES": true,
              "STRINGIFY_INDEX_VALUES": false
            },
            "sample_history": [],
            "sampling_time": "2023-10-04T14:14:55.427585",
            "user_variable_name": "df",
            "variable_name": "df"
          },
          "181e3c71-6636-4d7a-b1d6-2c6def5f12d9": {
            "applied_filters": [],
            "dataframe_info": {
              "default_index_used": true,
              "orig_num_cols": 12,
              "orig_num_rows": 1000,
              "orig_size_bytes": 104000,
              "truncated_num_cols": 12,
              "truncated_num_rows": 1000,
              "truncated_size_bytes": 104000,
              "truncated_string_columns": []
            },
            "display_id": "181e3c71-6636-4d7a-b1d6-2c6def5f12d9",
            "dx_settings": {
              "ALLOW_NOTEABLE_ATTRS": true,
              "COLUMN_SAMPLING_METHOD": "outer",
              "DB_LOCATION": ":memory:",
              "DEV_MODE": false,
              "DISPLAY_MAX_COLUMNS": 100,
              "DISPLAY_MAX_ROWS": 50000,
              "DISPLAY_MODE": "simple",
              "ENABLE_ASSIGNMENT": true,
              "ENABLE_DATALINK": true,
              "FLATTEN_COLUMN_VALUES": true,
              "FLATTEN_INDEX_VALUES": false,
              "GENERATE_DEX_METADATA": false,
              "HTML_TABLE_SCHEMA": false,
              "LOG_LEVEL": 30,
              "MAX_RENDER_SIZE_BYTES": 104857600,
              "MAX_STRING_LENGTH": 250,
              "NUM_PAST_SAMPLES_TRACKED": 3,
              "RANDOM_STATE": 12648430,
              "RESET_INDEX_VALUES": false,
              "ROW_SAMPLING_METHOD": "random",
              "SAMPLING_FACTOR": 0.1,
              "SAMPLING_METHOD": "random",
              "STRINGIFY_COLUMN_VALUES": true,
              "STRINGIFY_INDEX_VALUES": false
            },
            "sample_history": [],
            "sampling_time": "2023-10-04T14:15:07.937726",
            "user_variable_name": null,
            "variable_name": "unk_dataframe_563a1fd38fd6439ba3f58e64adbd006e"
          },
          "71a9a2e3-9a83-4d5f-9cce-4967c845b431": {
            "applied_filters": [],
            "dataframe_info": {
              "default_index_used": true,
              "orig_num_cols": 12,
              "orig_num_rows": 5,
              "orig_size_bytes": 520,
              "truncated_num_cols": 12,
              "truncated_num_rows": 5,
              "truncated_size_bytes": 520,
              "truncated_string_columns": []
            },
            "display_id": "71a9a2e3-9a83-4d5f-9cce-4967c845b431",
            "dx_settings": {
              "ALLOW_NOTEABLE_ATTRS": true,
              "COLUMN_SAMPLING_METHOD": "outer",
              "DB_LOCATION": ":memory:",
              "DEV_MODE": false,
              "DISPLAY_MAX_COLUMNS": 100,
              "DISPLAY_MAX_ROWS": 50000,
              "DISPLAY_MODE": "simple",
              "ENABLE_ASSIGNMENT": true,
              "ENABLE_DATALINK": true,
              "FLATTEN_COLUMN_VALUES": true,
              "FLATTEN_INDEX_VALUES": false,
              "GENERATE_DEX_METADATA": false,
              "HTML_TABLE_SCHEMA": false,
              "LOG_LEVEL": 30,
              "MAX_RENDER_SIZE_BYTES": 104857600,
              "MAX_STRING_LENGTH": 250,
              "NUM_PAST_SAMPLES_TRACKED": 3,
              "RANDOM_STATE": 12648430,
              "RESET_INDEX_VALUES": false,
              "ROW_SAMPLING_METHOD": "random",
              "SAMPLING_FACTOR": 0.1,
              "SAMPLING_METHOD": "random",
              "STRINGIFY_COLUMN_VALUES": true,
              "STRINGIFY_INDEX_VALUES": false
            },
            "sample_history": [],
            "sampling_time": "2023-10-04T14:17:38.655458",
            "user_variable_name": null,
            "variable_name": "unk_dataframe_81923aa20f9b4da785d3d78e309b8474"
          },
          "2ff03e4c-a600-46a9-9eb6-c92fc9bf8d08": {
            "applied_filters": [],
            "dataframe_info": {
              "default_index_used": true,
              "orig_num_cols": 12,
              "orig_num_rows": 5,
              "orig_size_bytes": 520,
              "truncated_num_cols": 12,
              "truncated_num_rows": 5,
              "truncated_size_bytes": 520,
              "truncated_string_columns": []
            },
            "display_id": "2ff03e4c-a600-46a9-9eb6-c92fc9bf8d08",
            "dx_settings": {
              "ALLOW_NOTEABLE_ATTRS": true,
              "COLUMN_SAMPLING_METHOD": "outer",
              "DB_LOCATION": ":memory:",
              "DEV_MODE": false,
              "DISPLAY_MAX_COLUMNS": 100,
              "DISPLAY_MAX_ROWS": 50000,
              "DISPLAY_MODE": "simple",
              "ENABLE_ASSIGNMENT": true,
              "ENABLE_DATALINK": true,
              "FLATTEN_COLUMN_VALUES": true,
              "FLATTEN_INDEX_VALUES": false,
              "GENERATE_DEX_METADATA": false,
              "HTML_TABLE_SCHEMA": false,
              "LOG_LEVEL": 30,
              "MAX_RENDER_SIZE_BYTES": 104857600,
              "MAX_STRING_LENGTH": 250,
              "NUM_PAST_SAMPLES_TRACKED": 3,
              "RANDOM_STATE": 12648430,
              "RESET_INDEX_VALUES": false,
              "ROW_SAMPLING_METHOD": "random",
              "SAMPLING_FACTOR": 0.1,
              "SAMPLING_METHOD": "random",
              "STRINGIFY_COLUMN_VALUES": true,
              "STRINGIFY_INDEX_VALUES": false
            },
            "sample_history": [],
            "sampling_time": "2023-10-04T15:48:19.509097",
            "user_variable_name": null,
            "variable_name": "unk_dataframe_676abbcc35c748039eda32767cc89be4"
          },
          "6053c8c6-4ca5-49b4-98d8-5a6c6facb04a": {
            "applied_filters": [],
            "dataframe_info": {
              "default_index_used": true,
              "orig_num_cols": 12,
              "orig_num_rows": 5,
              "orig_size_bytes": 520,
              "truncated_num_cols": 12,
              "truncated_num_rows": 5,
              "truncated_size_bytes": 520,
              "truncated_string_columns": []
            },
            "display_id": "6053c8c6-4ca5-49b4-98d8-5a6c6facb04a",
            "dx_settings": {
              "ALLOW_NOTEABLE_ATTRS": true,
              "COLUMN_SAMPLING_METHOD": "outer",
              "DB_LOCATION": ":memory:",
              "DEV_MODE": false,
              "DISPLAY_MAX_COLUMNS": 100,
              "DISPLAY_MAX_ROWS": 50000,
              "DISPLAY_MODE": "simple",
              "ENABLE_ASSIGNMENT": true,
              "ENABLE_DATALINK": true,
              "FLATTEN_COLUMN_VALUES": true,
              "FLATTEN_INDEX_VALUES": false,
              "GENERATE_DEX_METADATA": false,
              "HTML_TABLE_SCHEMA": false,
              "LOG_LEVEL": 30,
              "MAX_RENDER_SIZE_BYTES": 104857600,
              "MAX_STRING_LENGTH": 250,
              "NUM_PAST_SAMPLES_TRACKED": 3,
              "RANDOM_STATE": 12648430,
              "RESET_INDEX_VALUES": false,
              "ROW_SAMPLING_METHOD": "random",
              "SAMPLING_FACTOR": 0.1,
              "SAMPLING_METHOD": "random",
              "STRINGIFY_COLUMN_VALUES": true,
              "STRINGIFY_INDEX_VALUES": false
            },
            "sample_history": [],
            "sampling_time": "2023-10-04T15:48:20.869343",
            "user_variable_name": null,
            "variable_name": "unk_dataframe_7b362d9ff4ff4ca2818e8aceb005e0fe"
          },
          "f4f446ef-dbca-4f76-a44d-4aba00f09d05": {
            "applied_filters": [],
            "dataframe_info": {
              "default_index_used": true,
              "orig_num_cols": 12,
              "orig_num_rows": 5,
              "orig_size_bytes": 520,
              "truncated_num_cols": 12,
              "truncated_num_rows": 5,
              "truncated_size_bytes": 520,
              "truncated_string_columns": []
            },
            "display_id": "f4f446ef-dbca-4f76-a44d-4aba00f09d05",
            "dx_settings": {
              "ALLOW_NOTEABLE_ATTRS": true,
              "COLUMN_SAMPLING_METHOD": "outer",
              "DB_LOCATION": ":memory:",
              "DEV_MODE": false,
              "DISPLAY_MAX_COLUMNS": 100,
              "DISPLAY_MAX_ROWS": 50000,
              "DISPLAY_MODE": "simple",
              "ENABLE_ASSIGNMENT": true,
              "ENABLE_DATALINK": true,
              "FLATTEN_COLUMN_VALUES": true,
              "FLATTEN_INDEX_VALUES": false,
              "GENERATE_DEX_METADATA": false,
              "HTML_TABLE_SCHEMA": false,
              "LOG_LEVEL": 30,
              "MAX_RENDER_SIZE_BYTES": 104857600,
              "MAX_STRING_LENGTH": 250,
              "NUM_PAST_SAMPLES_TRACKED": 3,
              "RANDOM_STATE": 12648430,
              "RESET_INDEX_VALUES": false,
              "ROW_SAMPLING_METHOD": "random",
              "SAMPLING_FACTOR": 0.1,
              "SAMPLING_METHOD": "random",
              "STRINGIFY_COLUMN_VALUES": true,
              "STRINGIFY_INDEX_VALUES": false
            },
            "sample_history": [],
            "sampling_time": "2023-10-04T15:54:41.732317",
            "user_variable_name": null,
            "variable_name": "unk_dataframe_70d5fd265668450dbfe7245bf5a33f7a"
          },
          "6f6c9454-ef57-461e-9663-9b91059ef028": {
            "applied_filters": [],
            "dataframe_info": {
              "default_index_used": true,
              "orig_num_cols": 12,
              "orig_num_rows": 5,
              "orig_size_bytes": 520,
              "truncated_num_cols": 12,
              "truncated_num_rows": 5,
              "truncated_size_bytes": 520,
              "truncated_string_columns": []
            },
            "display_id": "6f6c9454-ef57-461e-9663-9b91059ef028",
            "dx_settings": {
              "ALLOW_NOTEABLE_ATTRS": true,
              "COLUMN_SAMPLING_METHOD": "outer",
              "DB_LOCATION": ":memory:",
              "DEV_MODE": false,
              "DISPLAY_MAX_COLUMNS": 100,
              "DISPLAY_MAX_ROWS": 50000,
              "DISPLAY_MODE": "simple",
              "ENABLE_ASSIGNMENT": true,
              "ENABLE_DATALINK": true,
              "FLATTEN_COLUMN_VALUES": true,
              "FLATTEN_INDEX_VALUES": false,
              "GENERATE_DEX_METADATA": false,
              "HTML_TABLE_SCHEMA": false,
              "LOG_LEVEL": 30,
              "MAX_RENDER_SIZE_BYTES": 104857600,
              "MAX_STRING_LENGTH": 250,
              "NUM_PAST_SAMPLES_TRACKED": 3,
              "RANDOM_STATE": 12648430,
              "RESET_INDEX_VALUES": false,
              "ROW_SAMPLING_METHOD": "random",
              "SAMPLING_FACTOR": 0.1,
              "SAMPLING_METHOD": "random",
              "STRINGIFY_COLUMN_VALUES": true,
              "STRINGIFY_INDEX_VALUES": false
            },
            "sample_history": [],
            "sampling_time": "2023-10-04T16:28:13.341386",
            "user_variable_name": null,
            "variable_name": "unk_dataframe_6863a2dea09e440b99c1912a7b8e4b57"
          },
          "86054b32-c631-4187-a681-7b39c33bc939": {
            "applied_filters": [],
            "dataframe_info": {
              "default_index_used": true,
              "orig_num_cols": 12,
              "orig_num_rows": 1000,
              "orig_size_bytes": 104000,
              "truncated_num_cols": 12,
              "truncated_num_rows": 1000,
              "truncated_size_bytes": 104000,
              "truncated_string_columns": []
            },
            "display_id": "86054b32-c631-4187-a681-7b39c33bc939",
            "dx_settings": {
              "ALLOW_NOTEABLE_ATTRS": true,
              "COLUMN_SAMPLING_METHOD": "outer",
              "DB_LOCATION": ":memory:",
              "DEV_MODE": false,
              "DISPLAY_MAX_COLUMNS": 100,
              "DISPLAY_MAX_ROWS": 50000,
              "DISPLAY_MODE": "simple",
              "ENABLE_ASSIGNMENT": true,
              "ENABLE_DATALINK": true,
              "FLATTEN_COLUMN_VALUES": true,
              "FLATTEN_INDEX_VALUES": false,
              "GENERATE_DEX_METADATA": false,
              "HTML_TABLE_SCHEMA": false,
              "LOG_LEVEL": 30,
              "MAX_RENDER_SIZE_BYTES": 104857600,
              "MAX_STRING_LENGTH": 250,
              "NUM_PAST_SAMPLES_TRACKED": 3,
              "RANDOM_STATE": 12648430,
              "RESET_INDEX_VALUES": false,
              "ROW_SAMPLING_METHOD": "random",
              "SAMPLING_FACTOR": 0.1,
              "SAMPLING_METHOD": "random",
              "STRINGIFY_COLUMN_VALUES": true,
              "STRINGIFY_INDEX_VALUES": false
            },
            "sample_history": [],
            "sampling_time": "2023-10-04T16:29:50.761924",
            "user_variable_name": null,
            "variable_name": "unk_dataframe_f2498def31d64586b349d5d0c947a739"
          },
          "d3176e73-af66-4a07-8a17-10e58500b8fa": {
            "applied_filters": [],
            "dataframe_info": {
              "default_index_used": true,
              "orig_num_cols": 12,
              "orig_num_rows": 1000,
              "orig_size_bytes": 104000,
              "truncated_num_cols": 12,
              "truncated_num_rows": 1000,
              "truncated_size_bytes": 104000,
              "truncated_string_columns": []
            },
            "display_id": "d3176e73-af66-4a07-8a17-10e58500b8fa",
            "dx_settings": {
              "ALLOW_NOTEABLE_ATTRS": true,
              "COLUMN_SAMPLING_METHOD": "outer",
              "DB_LOCATION": ":memory:",
              "DEV_MODE": false,
              "DISPLAY_MAX_COLUMNS": 100,
              "DISPLAY_MAX_ROWS": 50000,
              "DISPLAY_MODE": "simple",
              "ENABLE_ASSIGNMENT": true,
              "ENABLE_DATALINK": true,
              "FLATTEN_COLUMN_VALUES": true,
              "FLATTEN_INDEX_VALUES": false,
              "GENERATE_DEX_METADATA": false,
              "HTML_TABLE_SCHEMA": false,
              "LOG_LEVEL": 30,
              "MAX_RENDER_SIZE_BYTES": 104857600,
              "MAX_STRING_LENGTH": 250,
              "NUM_PAST_SAMPLES_TRACKED": 3,
              "RANDOM_STATE": 12648430,
              "RESET_INDEX_VALUES": false,
              "ROW_SAMPLING_METHOD": "random",
              "SAMPLING_FACTOR": 0.1,
              "SAMPLING_METHOD": "random",
              "STRINGIFY_COLUMN_VALUES": true,
              "STRINGIFY_INDEX_VALUES": false
            },
            "sample_history": [],
            "sampling_time": "2023-10-04T17:42:27.143598",
            "user_variable_name": null,
            "variable_name": "unk_dataframe_51e2437d73934fe2a6ba161962a12377"
          }
        },
        "dx": {
          "dashboard": {
            "multiViews": []
          },
          "fieldMetadata": {
            "active": {
              "columnPosition": 2
            },
            "datetime": {
              "columnPosition": 3
            },
            "dist_total": {
              "columnPosition": 13
            },
            "gender": {
              "columnPosition": 8
            },
            "id": {
              "columnPosition": 4
            },
            "index": {
              "columnPosition": 1
            },
            "latitude": {
              "aggregation": "AVG",
              "columnPosition": 5
            },
            "length": {
              "columnPosition": 11
            },
            "longitude": {
              "columnPosition": 6
            },
            "name": {
              "columnPosition": 7
            },
            "species": {
              "columnPosition": 9
            },
            "tagDate": {
              "columnPosition": 12
            },
            "weight": {
              "columnPosition": 10
            }
          },
          "updated": 1696441358564,
          "views": [
            {
              "annotationRules": [],
              "chart": {
                "facets": []
              },
              "chartMode": "grid",
              "confoRules": [],
              "decoration": {
                "footer": "",
                "subtitle": "",
                "title": "Table"
              },
              "facets": [],
              "filterSettings": {
                "SHOW_FILTER_PANEL": true,
                "filters": []
              },
              "id": "2ed0df7c-0d5c-411e-82de-db527c688be6",
              "isComment": false,
              "isDefault": false,
              "isTransitory": false,
              "type": "public",
              "userID": ""
            },
            {
              "annotationRules": [],
              "chart": {
                "facets": []
              },
              "chartMode": "grid",
              "confoRules": [],
              "decoration": {
                "footer": "",
                "subtitle": "",
                "title": "Table"
              },
              "facets": [],
              "filterSettings": {
                "SHOW_FILTER_PANEL": true,
                "filters": []
              },
              "id": "2ed0df7c-0d5c-411e-82de-db527c688be6",
              "isComment": false,
              "isDefault": false,
              "isTransitory": true,
              "type": "public",
              "userID": ""
            },
            {
              "annotationRules": [],
              "chart": {
                "facets": []
              },
              "chartMode": "empty",
              "confoRules": [],
              "decoration": {
                "footer": "",
                "subtitle": "",
                "title": "New View"
              },
              "facets": [],
              "filterSettings": {
                "SHOW_FILTER_PANEL": true,
                "filters": []
              },
              "id": "f912ee8f-d826-40db-a9e4-0420a110d55d",
              "isDefault": false,
              "type": "public",
              "userID": ""
            },
            {
              "annotationRules": [],
              "chart": {
                "facets": [
                  {
                    "chartMode": "bar",
                    "confoRules": [
                      {
                        "colorOpts": {
                          "color": null,
                          "colorsHash": {
                            "Albertina ": "#b3331d",
                            "Brenda ": "#b86117",
                            "Helen ": "#b6a756",
                            "Oprah": "#122753"
                          },
                          "cond": null,
                          "gradient": null,
                          "max": "",
                          "min": "",
                          "mode": "categorical",
                          "scale": null,
                          "thresholdColors": null,
                          "thresholdValues": null
                        },
                        "columnType": "Dimension",
                        "fieldName": "name",
                        "id": "data-prism",
                        "index": 0,
                        "name": ""
                      }
                    ],
                    "faceting": {
                      "barProjection": "vertical",
                      "combinationMode": "AVG",
                      "dim1": "name",
                      "labelType": "none",
                      "metric1": "longitude",
                      "metric3": "none",
                      "proBarMode": "Combined",
                      "secondBarMetric": "length"
                    },
                    "name": "bar",
                    "title": "Combined Bar Chart"
                  },
                  {
                    "chartMode": "scatter",
                    "confoRules": [
                      {
                        "colorOpts": {
                          "color": null,
                          "colorsHash": {
                            "Albertina ": "#b3331d",
                            "Brenda ": "#b86117",
                            "Helen ": "#b6a756",
                            "Oprah": "#122753"
                          },
                          "cond": null,
                          "gradient": null,
                          "max": "",
                          "min": "",
                          "mode": "categorical",
                          "scale": null,
                          "thresholdColors": null,
                          "thresholdValues": null
                        },
                        "columnType": "Dimension",
                        "fieldName": "name",
                        "id": "data-prism",
                        "index": 0,
                        "name": ""
                      }
                    ],
                    "faceting": {
                      "confoColor": "name",
                      "metric1": "longitude",
                      "metric2": "length",
                      "scatterplotSize": "none"
                    },
                    "name": "scatter",
                    "title": "Scatterplot"
                  },
                  {
                    "chartMode": "network",
                    "confoRules": [
                      {
                        "colorOpts": {
                          "color": null,
                          "colorsHash": {
                            "Female": "#122753"
                          },
                          "cond": null,
                          "gradient": null,
                          "max": "",
                          "min": "",
                          "mode": "categorical",
                          "scale": null,
                          "thresholdColors": null,
                          "thresholdValues": null
                        },
                        "columnType": "Dimension",
                        "fieldName": "gender",
                        "id": "data-prism",
                        "index": 0,
                        "name": ""
                      }
                    ],
                    "faceting": {
                      "dim1": "gender",
                      "dim2": "species",
                      "edgeMode": "edge list",
                      "metric1": "latitude",
                      "networkLabel": "scaled",
                      "networkType": "sankey"
                    },
                    "name": "network",
                    "title": "Sankey Network"
                  },
                  {
                    "chartMode": "summary",
                    "confoRules": [
                      {
                        "colorOpts": {
                          "color": null,
                          "colorsHash": {
                            "7 March 2012": "#122753",
                            "8 March 2012": "#b3331d"
                          },
                          "cond": null,
                          "gradient": null,
                          "max": "",
                          "min": "",
                          "mode": "categorical",
                          "scale": null,
                          "thresholdColors": null,
                          "thresholdValues": null
                        },
                        "columnType": "Dimension",
                        "fieldName": "tagDate",
                        "id": "data-prism",
                        "index": 0,
                        "name": ""
                      }
                    ],
                    "faceting": {
                      "boxplotOutliers": true,
                      "dim1": "tagDate",
                      "metric1": "dist_total",
                      "summaryType": "boxplot"
                    },
                    "name": "summary",
                    "title": "Boxplot w/ Outliers"
                  },
                  {
                    "chartMode": "hierarchy",
                    "confoRules": [
                      {
                        "colorOpts": {
                          "color": null,
                          "colorsHash": {
                            "7 March 2012": "#122753",
                            "8 March 2012": "#b3331d"
                          },
                          "cond": null,
                          "gradient": null,
                          "max": "",
                          "min": "",
                          "mode": "categorical",
                          "scale": null,
                          "thresholdColors": null,
                          "thresholdValues": null
                        },
                        "columnType": "Dimension",
                        "fieldName": "tagDate",
                        "id": "data-prism",
                        "index": 0,
                        "name": ""
                      }
                    ],
                    "faceting": {
                      "hierarchyType": "treemap",
                      "metric1": "dist_total",
                      "networkLabel": "scaled",
                      "selectedDimensions": [
                        "tagDate"
                      ]
                    },
                    "name": "hierarchy",
                    "title": "Treemap"
                  },
                  {
                    "chartMode": "bar",
                    "confoRules": [],
                    "faceting": {
                      "barProjection": "vertical",
                      "combinationMode": "AVG",
                      "dim1": "datetime",
                      "groupOther": true,
                      "labelType": "none",
                      "metric1": "weight",
                      "proBarMode": "Combined",
                      "secondBarMetric": "none",
                      "sortColumnsBy": "desc-val"
                    },
                    "name": "bar",
                    "title": "Long Tail Bar Chart"
                  },
                  {
                    "chartMode": "wordcloud",
                    "confoRules": [],
                    "faceting": {
                      "textDataFormat": "token",
                      "tokenMetric": "weight",
                      "wordColor": "random",
                      "wordData": "datetime"
                    },
                    "name": "wordcloud",
                    "title": "Token Cloud"
                  },
                  {
                    "chartMode": "pie",
                    "confoRules": [
                      {
                        "colorOpts": {
                          "color": null,
                          "colorsHash": {
                            "Albertina ": "#b3331d",
                            "Brenda ": "#b86117",
                            "Helen ": "#b6a756",
                            "Oprah": "#122753"
                          },
                          "cond": null,
                          "gradient": null,
                          "max": "",
                          "min": "",
                          "mode": "categorical",
                          "scale": null,
                          "thresholdColors": null,
                          "thresholdValues": null
                        },
                        "columnType": "Dimension",
                        "fieldName": "name",
                        "id": "data-prism",
                        "index": 0,
                        "name": ""
                      }
                    ],
                    "faceting": {
                      "combinationMode": "SUM",
                      "dim1": "name",
                      "labelType": "none",
                      "metric1": "id",
                      "proBarMode": "Combined",
                      "showTotal": true
                    },
                    "name": "pie",
                    "title": "Donut Chart"
                  }
                ]
              },
              "chartMode": "empty",
              "confoRules": [],
              "decoration": {
                "footer": "",
                "subtitle": "",
                "title": "New View"
              },
              "facets": [],
              "filterSettings": {
                "SHOW_FILTER_PANEL": true,
                "filters": []
              },
              "id": "f912ee8f-d826-40db-a9e4-0420a110d55d",
              "isDefault": false,
              "isTransitory": true,
              "type": "public",
              "userID": ""
            }
          ]
        }
      },
      "source": "df.head(1000)",
      "execution_count": null,
      "outputs": [],
      "id": "05d5a01a"
    },
    {
      "cell_type": "code",
      "metadata": {
        "cell_id": "00007-1c90b444-5c79-45d4-a967-dff9c82b0891",
        "deepnote_cell_type": "code",
        "deepnote_cell_height": 61
      },
      "source": "",
      "execution_count": null,
      "outputs": [],
      "id": "81572bb3"
    },
    {
      "cell_type": "markdown",
      "source": "### Challenge Questions",
      "metadata": {
        "cell_id": "00008-29ede42e-acb2-4993-8f03-84342a6d1954",
        "deepnote_cell_type": "markdown",
        "deepnote_cell_height": 62
      },
      "id": "ef83b86e"
    },
    {
      "cell_type": "markdown",
      "source": "#### Easy Questions\n 1. How many total pings are in the Ocearch shark data?\n 2. How many unique species of sharks are in the data set?\n 3. What is the name, weight, and species of the heaviest shark(s)?\n 4. When and where was the very first ping?\n 5. Excluding results with 0 distance traveled: what's the minimum, average, and maximum travel distances?",
      "metadata": {
        "cell_id": "00009-988c030e-b8ff-468d-bec1-41be4161a205",
        "deepnote_cell_type": "markdown",
        "deepnote_cell_height": 202
      },
      "id": "a15a52f0"
    },
    {
      "cell_type": "markdown",
      "source": "##### Total pings\nHow many total pings are in the Ocearch shark data?",
      "metadata": {
        "cell_id": "00010-afa0d9d2-299c-4e67-b62a-fc1f4b86e8cd",
        "deepnote_cell_type": "markdown",
        "deepnote_cell_height": 88
      },
      "id": "38862445"
    },
    {
      "cell_type": "code",
      "metadata": {
        "ExecuteTime": {
          "end_time": "2019-02-23T02:43:05.315150Z",
          "start_time": "2019-02-23T02:43:05.228036Z"
        },
        "cell_id": "00011-03473a17-d242-4f20-b2cb-3ce64b0aa9e3",
        "deepnote_cell_type": "code",
        "deepnote_cell_height": 61
      },
      "source": "",
      "execution_count": null,
      "outputs": [],
      "id": "a091bba5"
    },
    {
      "cell_type": "markdown",
      "source": "##### Unique species\nHow many unique species of sharks are in the data set?",
      "metadata": {
        "cell_id": "00012-0d9347fc-d643-427a-a3c9-532898b3a709",
        "deepnote_cell_type": "markdown",
        "deepnote_cell_height": 88
      },
      "id": "97d58f19"
    },
    {
      "cell_type": "code",
      "metadata": {
        "ExecuteTime": {
          "end_time": "2019-02-23T02:43:05.425206Z",
          "start_time": "2019-02-23T02:43:05.317165Z"
        },
        "cell_id": "00013-26895e8b-9961-4f46-8c3d-35f8d4ea8023",
        "deepnote_cell_type": "code",
        "deepnote_cell_height": 61
      },
      "source": "",
      "execution_count": null,
      "outputs": [],
      "id": "4bc3b2ba"
    },
    {
      "cell_type": "markdown",
      "source": "##### Heaviest shark(s)\nWhat is the name, weight, and species of the heaviest shark(s)?",
      "metadata": {
        "cell_id": "00014-501a7964-2c93-4dee-8189-c6efba0129f3",
        "deepnote_cell_type": "markdown",
        "deepnote_cell_height": 88
      },
      "id": "fb4a37be"
    },
    {
      "cell_type": "code",
      "metadata": {
        "ExecuteTime": {
          "end_time": "2019-02-23T02:43:05.531381Z",
          "start_time": "2019-02-23T02:43:05.426194Z"
        },
        "cell_id": "00015-be0b8143-3acb-4549-8faf-7ebae134e190",
        "deepnote_cell_type": "code",
        "deepnote_cell_height": 61
      },
      "source": "",
      "execution_count": null,
      "outputs": [],
      "id": "ec0b6957"
    },
    {
      "cell_type": "markdown",
      "source": "##### First ping\nWhen and where was the very first ping?",
      "metadata": {
        "cell_id": "00016-31c76069-a0bd-47ba-87bf-4eb5f63db7ce",
        "deepnote_cell_type": "markdown",
        "deepnote_cell_height": 88
      },
      "id": "2aabf400"
    },
    {
      "cell_type": "code",
      "metadata": {
        "ExecuteTime": {
          "end_time": "2019-02-23T02:43:05.791489Z",
          "start_time": "2019-02-23T02:43:05.662404Z"
        },
        "cell_id": "00017-1ad58bd9-337e-45ad-930a-272933507c12",
        "deepnote_cell_type": "code",
        "deepnote_cell_height": 61
      },
      "source": "",
      "execution_count": null,
      "outputs": [],
      "id": "d98aa2e3"
    },
    {
      "cell_type": "markdown",
      "source": "##### Distance travelled\nExcluding results with 0 distance traveled: what's the minimum, average, and maximum travel distances?",
      "metadata": {
        "cell_id": "00018-de18ab42-53fd-4903-8fd9-efe98e8f8fe2",
        "deepnote_cell_type": "markdown",
        "deepnote_cell_height": 88
      },
      "id": "29529cef"
    },
    {
      "cell_type": "code",
      "metadata": {
        "ExecuteTime": {
          "end_time": "2019-02-23T02:43:05.852515Z",
          "start_time": "2019-02-23T02:43:05.792475Z"
        },
        "cell_id": "00019-dcdfe2bd-d590-4553-947d-053eeb1fa9b4",
        "deepnote_cell_type": "code",
        "deepnote_cell_height": 61
      },
      "source": "",
      "execution_count": null,
      "outputs": [],
      "id": "720e8ef0"
    },
    {
      "cell_type": "markdown",
      "source": "<a style='text-decoration:none;line-height:16px;display:flex;color:#5B5B62;padding:10px;justify-content:end;' href='https://deepnote.com?utm_source=created-in-deepnote-cell&projectId=612687e0-d2cb-4e6d-9132-ccbece63e932' target=\"_blank\">\n<img alt='Created in deepnote.com' style='display:inline;max-height:16px;margin:0px;margin-right:7.5px;' src='data:image/svg+xml;base64,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' > </img>\nCreated in <span style='font-weight:600;margin-left:4px;'>Deepnote</span></a>",
      "metadata": {
        "tags": [],
        "created_in_deepnote_cell": true,
        "deepnote_cell_type": "markdown"
      },
      "id": "2ba81555"
    }
  ],
  "nbformat": 4,
  "nbformat_minor": 5,
  "metadata": {
    "kernelspec": {
      "display_name": "Python 3.9",
      "language": "python",
      "name": "python3"
    },
    "language_info": {
      "codemirror_mode": {
        "name": "ipython",
        "version": 3
      },
      "file_extension": ".py",
      "mimetype": "text/x-python",
      "name": "python",
      "nbconvert_exporter": "python",
      "pygments_lexer": "ipython3",
      "version": "3.7.2"
    },
    "toc": {
      "base_numbering": 1,
      "nav_menu": {},
      "number_sections": true,
      "sideBar": true,
      "skip_h1_title": false,
      "title_cell": "Table of Contents",
      "title_sidebar": "Contents",
      "toc_cell": false,
      "toc_position": {
        "height": "calc(100% - 180px)",
        "left": "10px",
        "top": "150px",
        "width": "256px"
      },
      "toc_section_display": true,
      "toc_window_display": true
    },
    "deepnote_notebook_id": "55f28101-d6da-49eb-94d9-5ad667194b7f",
    "deepnote": {},
    "deepnote_execution_queue": [],
    "noteable": {
      "last_transaction_id": "a7ff8424-863a-479c-b214-0077cd40c37a"
    },
    "selected_hardware_size": "small",
    "kernel_info": {
      "name": "python3"
    }
  }
}